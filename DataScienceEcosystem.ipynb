{
 "cells": [
  {
   "cell_type": "markdown",
   "id": "ea80de71",
   "metadata": {},
   "source": [
    "# Data Science Tools and Ecosystem"
   ]
  },
  {
   "cell_type": "markdown",
   "id": "b4587724",
   "metadata": {},
   "source": [
    "In this notebook, Data Science Tools and Ecosystem are summarized."
   ]
  },
  {
   "cell_type": "markdown",
   "id": "44084d7e",
   "metadata": {},
   "source": [
    "**Objectives**\n",
    "   - Popular Data Science Languages\n",
    "   - Popular Data Science Libraries\n",
    "   - Popular Data Science Tools\n",
    "   "
   ]
  },
  {
   "cell_type": "markdown",
   "id": "5d7e5f34",
   "metadata": {},
   "source": [
    "Some of the popular languages that Data Scientists use are:\n",
    "   1. Python\n",
    "   2. R\n",
    "   3. SQL"
   ]
  },
  {
   "cell_type": "markdown",
   "id": "65e4de50",
   "metadata": {},
   "source": [
    "Some of the commonly used libraries used by Data Scientists\n",
    "   1. ggplot\n",
    "   2. TensorFlow\n",
    "   3. Plotly"
   ]
  },
  {
   "cell_type": "markdown",
   "id": "8e57bb64",
   "metadata": {},
   "source": [
    "|Data Science Tools|\n",
    "------------------------\n",
    "|Jupyter|\n",
    "|R-Studio|\n",
    "|Apache Zepplin|"
   ]
  },
  {
   "cell_type": "markdown",
   "id": "5684e877",
   "metadata": {},
   "source": [
    "### Below are a few examples of evalutating arithmetic expressions in Python"
   ]
  },
  {
   "cell_type": "code",
   "execution_count": 2,
   "id": "88175f5f",
   "metadata": {},
   "outputs": [
    {
     "data": {
      "text/plain": [
       "17"
      ]
     },
     "execution_count": 2,
     "metadata": {},
     "output_type": "execute_result"
    }
   ],
   "source": [
    "# This a simple arithmetic expressioin to multiply then add integers\n",
    "(3*4)+5"
   ]
  },
  {
   "cell_type": "code",
   "execution_count": 3,
   "id": "1d9c8af3",
   "metadata": {},
   "outputs": [
    {
     "data": {
      "text/plain": [
       "3.3333333333333335"
      ]
     },
     "execution_count": 3,
     "metadata": {},
     "output_type": "execute_result"
    }
   ],
   "source": [
    "# This Will convert 200 minutes to hours by dividing 60\n",
    "200/60"
   ]
  },
  {
   "cell_type": "markdown",
   "id": "986f429a",
   "metadata": {},
   "source": [
    "## Author\n",
    "Ryan Powell"
   ]
  },
  {
   "cell_type": "code",
   "execution_count": null,
   "id": "01e7223b",
   "metadata": {},
   "outputs": [],
   "source": []
  }
 ],
 "metadata": {
  "kernelspec": {
   "display_name": "Python 3 (ipykernel)",
   "language": "python",
   "name": "python3"
  },
  "language_info": {
   "codemirror_mode": {
    "name": "ipython",
    "version": 3
   },
   "file_extension": ".py",
   "mimetype": "text/x-python",
   "name": "python",
   "nbconvert_exporter": "python",
   "pygments_lexer": "ipython3",
   "version": "3.11.4"
  }
 },
 "nbformat": 4,
 "nbformat_minor": 5
}
